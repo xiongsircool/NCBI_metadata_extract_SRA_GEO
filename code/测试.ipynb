{
 "cells": [
  {
   "cell_type": "code",
   "execution_count": 189,
   "metadata": {},
   "outputs": [
    {
     "ename": "ModuleNotFoundError",
     "evalue": "No module named 'WeasyPrint'",
     "output_type": "error",
     "traceback": [
      "\u001b[1;31m---------------------------------------------------------------------------\u001b[0m",
      "\u001b[1;31mModuleNotFoundError\u001b[0m                       Traceback (most recent call last)",
      "\u001b[1;32mj:\\实验室代码\\朱亚文\\朱雅文APP\\NCBI metadata 挖掘\\code\\测试.ipynb 单元格 1\u001b[0m line \u001b[0;36m4\n\u001b[0;32m      <a href='vscode-notebook-cell:/j%3A/%E5%AE%9E%E9%AA%8C%E5%AE%A4%E4%BB%A3%E7%A0%81/%E6%9C%B1%E4%BA%9A%E6%96%87/%E6%9C%B1%E9%9B%85%E6%96%87APP/NCBI%20metadata%20%E6%8C%96%E6%8E%98/code/%E6%B5%8B%E8%AF%95.ipynb#W0sZmlsZQ%3D%3D?line=1'>2</a>\u001b[0m \u001b[39mimport\u001b[39;00m \u001b[39mreaddat\u001b[39;00m\n\u001b[0;32m      <a href='vscode-notebook-cell:/j%3A/%E5%AE%9E%E9%AA%8C%E5%AE%A4%E4%BB%A3%E7%A0%81/%E6%9C%B1%E4%BA%9A%E6%96%87/%E6%9C%B1%E9%9B%85%E6%96%87APP/NCBI%20metadata%20%E6%8C%96%E6%8E%98/code/%E6%B5%8B%E8%AF%95.ipynb#W0sZmlsZQ%3D%3D?line=2'>3</a>\u001b[0m \u001b[39mimport\u001b[39;00m  \u001b[39mpandas\u001b[39;00m \u001b[39mas\u001b[39;00m \u001b[39mpd\u001b[39;00m\n\u001b[1;32m----> <a href='vscode-notebook-cell:/j%3A/%E5%AE%9E%E9%AA%8C%E5%AE%A4%E4%BB%A3%E7%A0%81/%E6%9C%B1%E4%BA%9A%E6%96%87/%E6%9C%B1%E9%9B%85%E6%96%87APP/NCBI%20metadata%20%E6%8C%96%E6%8E%98/code/%E6%B5%8B%E8%AF%95.ipynb#W0sZmlsZQ%3D%3D?line=3'>4</a>\u001b[0m \u001b[39mimport\u001b[39;00m \u001b[39mWeasyPrint\u001b[39;00m\n",
      "\u001b[1;31mModuleNotFoundError\u001b[0m: No module named 'WeasyPrint'"
     ]
    }
   ],
   "source": [
    "from Bio import Entrez\n",
    "import readdat\n",
    "import  pandas as pd\n",
    "import WeasyPrint"
   ]
  },
  {
   "cell_type": "code",
   "execution_count": 30,
   "metadata": {},
   "outputs": [
    {
     "name": "stdout",
     "output_type": "stream",
     "text": [
      "Sample type is right\n"
     ]
    }
   ],
   "source": [
    "file_path  = '../Data/testdata.xlsx'\n",
    "Sample_dat  = readdat.read_data(file_path=file_path)\n",
    "Sample_dat[\"type\"] = Sample_dat[\"Sample\"].str[:3]\n",
    "# 默认使用Sample列，如果没有就要用户修改一列Sample\n",
    "Sample_type_dict = dict(tuple(Sample_dat.groupby(\"type\").Sample))\n",
    "\n",
    "if len(list(set(Sample_type_dict.keys() )-set(['DRX', 'ERX', 'GSM', 'SRX']) ) ) == 0 :\n",
    "    print(\"Sample type is right\")\n",
    "else:\n",
    "    error_type = list(set(Sample_type_dict.keys() )-set(['DRX', 'ERX', 'GSM', 'SRX']) ) \n",
    "    print( f\"\"\"Sample type is wrong, please check the type of {\",\".join(error_type)} ,it should be DRX, ERX, GSM or SRX.\"\"\")\n",
    "    \n",
    "# 对于每个样本类型的信息进行处理"
   ]
  },
  {
   "cell_type": "code",
   "execution_count": 34,
   "metadata": {},
   "outputs": [
    {
     "name": "stdout",
     "output_type": "stream",
     "text": [
      "Sample type is wrong, please check the type of 1,2 ,it should be DRX, ERX, GSM or SRX.\n"
     ]
    }
   ],
   "source": [
    "email = \"166662633@qq.com\"\n"
   ]
  },
  {
   "cell_type": "code",
   "execution_count": 4,
   "metadata": {},
   "outputs": [
    {
     "data": {
      "text/plain": [
       "{'DbList': ['pubmed', 'protein', 'nuccore', 'ipg', 'nucleotide', 'structure', 'genome', 'annotinfo', 'assembly', 'bioproject', 'biosample', 'blastdbinfo', 'books', 'cdd', 'clinvar', 'gap', 'gapplus', 'grasp', 'dbvar', 'gene', 'gds', 'geoprofiles', 'homologene', 'medgen', 'mesh', 'nlmcatalog', 'omim', 'orgtrack', 'pmc', 'popset', 'proteinclusters', 'pcassay', 'protfam', 'pccompound', 'pcsubstance', 'seqannot', 'snp', 'sra', 'taxonomy', 'biocollections', 'gtr']}"
      ]
     },
     "execution_count": 4,
     "metadata": {},
     "output_type": "execute_result"
    }
   ],
   "source": [
    "Entrez.email = \"1666526339@qq.com\"\n",
    "Entrez.tool = \"MyLocalScript Use to get the experitment information of SRA\""
   ]
  },
  {
   "cell_type": "code",
   "execution_count": 15,
   "metadata": {},
   "outputs": [],
   "source": [
    "import json\n",
    "records = Entrez.einfo(db=\"biosample\").read()\n",
    "records = records.decode(\"utf-8\")\n",
    "records = Entrez.read(Entrez.esearch(db=\"biosample\",term=\"SAMD00009103[ACCN]\"))\n"
   ]
  },
  {
   "cell_type": "code",
   "execution_count": 22,
   "metadata": {},
   "outputs": [
    {
     "data": {
      "text/plain": [
       "['pubmed', 'protein', 'nuccore', 'ipg', 'nucleotide', 'structure', 'genome', 'annotinfo', 'assembly', 'bioproject', 'biosample', 'blastdbinfo', 'books', 'cdd', 'clinvar', 'gap', 'gapplus', 'grasp', 'dbvar', 'gene', 'gds', 'geoprofiles', 'homologene', 'medgen', 'mesh', 'nlmcatalog', 'omim', 'orgtrack', 'pmc', 'popset', 'proteinclusters', 'pcassay', 'protfam', 'pccompound', 'pcsubstance', 'seqannot', 'snp', 'sra', 'taxonomy', 'biocollections', 'gtr']"
      ]
     },
     "execution_count": 22,
     "metadata": {},
     "output_type": "execute_result"
    }
   ],
   "source": [
    "Entrez.read(Entrez.einfo())[\"DbList\"]"
   ]
  },
  {
   "cell_type": "code",
   "execution_count": 70,
   "metadata": {},
   "outputs": [
    {
     "name": "stderr",
     "output_type": "stream",
     "text": [
      "28-Oct-2023 13:02:30 DEBUG utils - Directory ../Data/TMP/ already exists. Skipping.\n",
      "28-Oct-2023 13:02:30 INFO GEOparse - File already exist: using local version.\n",
      "28-Oct-2023 13:02:30 INFO GEOparse - Parsing ../Data/TMP/GSM2704826.txt: \n"
     ]
    }
   ],
   "source": [
    "# GSM2704826 测试   GEO 数据库数据获取  ACCN 来限制使用ID进行查询\n",
    "import GEOparse\n",
    "gse = GEOparse.get_GEO(geo=\"GSM2704826\",destdir=\"../Data/TMP/\",geotype=\"GSM\")\n",
    "gsemetadata = gse.metadata\n"
   ]
  },
  {
   "cell_type": "code",
   "execution_count": 233,
   "metadata": {},
   "outputs": [],
   "source": [
    "# 'DRX', 'ERX','SRX'\n",
    "id = \"ERX2067750\"\n",
    "sra_id_list = Entrez.read(Entrez.esearch(db=\"sra\",term=id))[\"IdList\"]\n",
    "if sra_id_list.__len__() == 1:\n",
    "    sra_id = sra_id_list[0]\n",
    "else:\n",
    "    print(\"sra_id_list is not noly one ,the {id} will be skip\".format(id=id))\n",
    "\n",
    "\n",
    "sra_record =Entrez.efetch(db=\"sra\",id=sra_id,retmode ='xml',rettype = \"xml\" ).read()\n"
   ]
  },
  {
   "cell_type": "code",
   "execution_count": 234,
   "metadata": {},
   "outputs": [],
   "source": [
    "#解析转为字典\n",
    "import xmltodict\n",
    "sra_record_dict = xmltodict.parse(sra_record.decode(\"utf-8\"))\n",
    "# ['EXPERIMENT', 'SUBMISSION', 'Organization', 'STUDY', 'SAMPLE', 'Pool', 'RUN_SET'] 现在处理这些标签，后续测试再查看是否需要其他标签\n",
    "sra_content = sra_record_dict[\"EXPERIMENT_PACKAGE_SET\"][\"EXPERIMENT_PACKAGE\"]\n",
    "new_sra_content = {}"
   ]
  },
  {
   "cell_type": "code",
   "execution_count": 222,
   "metadata": {},
   "outputs": [
    {
     "data": {
      "text/plain": [
       "{'EXPERIMENT_PACKAGE_SET'}"
      ]
     },
     "execution_count": 222,
     "metadata": {},
     "output_type": "execute_result"
    }
   ],
   "source": [
    "set(sra_record_dict.keys())-set(['EXPERIMENT', 'SUBMISSION', 'Organization', 'STUDY', 'SAMPLE', 'Pool', 'RUN_SET'])"
   ]
  },
  {
   "cell_type": "code",
   "execution_count": null,
   "metadata": {},
   "outputs": [],
   "source": [
    "sra_record_dict['EXPERIMENT_PACKAGE_SET']['EXPERIMENT_PACKAGE']"
   ]
  },
  {
   "cell_type": "code",
   "execution_count": null,
   "metadata": {},
   "outputs": [],
   "source": [
    "# EXPERIMENT\n",
    "# {'@accession': 'SRX3418718',\n",
    "#  '@alias': 'SA',\n",
    "#  'IDENTIFIERS': {'PRIMARY_ID': 'SRX3418718'},\n",
    "#  'TITLE': 'RNA-seq of A. thaliana: SA treatment',\n",
    "#  'STUDY_REF': {'@accession': 'SRP125543',\n",
    "#   'IDENTIFIERS': {'PRIMARY_ID': 'SRP125543',\n",
    "#    'EXTERNAL_ID': {'@namespace': 'BioProject', '#text': 'PRJNA419473'}}},\n",
    "#  'DESIGN': {'DESIGN_DESCRIPTION': 'Using 2 mmol/L SA solution containing 0.1% Tween20 treated 30-day-old Arabidopsis thaliana as SA treatment and harvested at 72h, isolation RNA by TRIzol for RNA-seq.Plant mRNA was enriched by NEBNext Poly (A) mRNA Magnetic Isolation Module (NEB, E7490). mRNA was cleaved into short fragments by using buffer under high temperature conditions. Then, the sequencing library was prepared with an NEBNext mRNA Library Prep Master Mix Set for Illumina (NEB, E6110L) and NEBNext Multiplex Oligos for Illumina (NEB, E7500). The prepared library was quantified by qRT-PCR. Qualified sequence was performed for the qualified library on a HiSeq 2500 machine.',\n",
    "#   'SAMPLE_DESCRIPTOR': {'@accession': 'SRS2711369',\n",
    "#    'IDENTIFIERS': {'PRIMARY_ID': 'SRS2711369',\n",
    "#     'EXTERNAL_ID': {'@namespace': 'BioSample', '#text': 'SAMN08056337'}}},\n",
    "#   'LIBRARY_DESCRIPTOR': {'LIBRARY_NAME': 'SA',\n",
    "#    'LIBRARY_STRATEGY': 'RNA-Seq',\n",
    "#    'LIBRARY_SOURCE': 'TRANSCRIPTOMIC',\n",
    "#    'LIBRARY_SELECTION': 'RANDOM',\n",
    "#    'LIBRARY_LAYOUT': {'PAIRED': None}}},\n",
    "#  'PLATFORM': {'ILLUMINA': {'INSTRUMENT_MODEL': 'Illumina HiSeq 2500'}}}\n",
    "new_sra_content[\"TITLE\"] = sra_content[\"EXPERIMENT\"][\"TITLE\"]\n",
    "new_sra_content[\"SRA_ID\"] = sra_content[\"EXPERIMENT\"][\"@accession\"]\n",
    "new_sra_content[\"STUDY_REF\"] = sra_content[\"EXPERIMENT\"][\"STUDY_REF\"][\"@accession\"]\n",
    "new_sra_content[\"DESIGN\"] ={}\n",
    "new_sra_content[\"DESIGN\"][\"DESIGN_DESCRIPTION\"] = sra_content[\"EXPERIMENT\"][\"DESIGN\"][\"DESIGN_DESCRIPTION\"]\n",
    "new_sra_content[\"DESIGN\"][\"SAMPLE_DESCRIPTOR\"] = sra_content[\"EXPERIMENT\"][\"DESIGN\"][\"SAMPLE_DESCRIPTOR\"]       # 后面实验下看要不要删除感觉内容多余\n",
    "new_sra_content[\"LIBRARY_DESCRIPTOR\"] = sra_content[\"EXPERIMENT\"][\"DESIGN\"][\"LIBRARY_DESCRIPTOR\"] #\n",
    "new_sra_content[\"PLATFORM\"] = sra_content[\"EXPERIMENT\"][\"PLATFORM\"] # 测序平台 后面看看存不存在不兼容或者没有这部分数据的问题"
   ]
  },
  {
   "cell_type": "code",
   "execution_count": 218,
   "metadata": {},
   "outputs": [
    {
     "data": {
      "text/plain": [
       "'SRP041864'"
      ]
     },
     "execution_count": 218,
     "metadata": {},
     "output_type": "execute_result"
    }
   ],
   "source": [
    "sra_content[\"EXPERIMENT\"][\"STUDY_REF\"][\"@accession\"]"
   ]
  },
  {
   "cell_type": "code",
   "execution_count": 201,
   "metadata": {},
   "outputs": [],
   "source": [
    "# SUBMISSION\n",
    "{'@lab_name': 'College of Life Science',\n",
    " '@center_name': 'Yunnan University',\n",
    " '@accession': 'SRA633639',\n",
    " '@alias': 'SUB3251046',\n",
    " 'IDENTIFIERS': {'PRIMARY_ID': 'SRA633639',\n",
    "  'SUBMITTER_ID': {'@namespace': 'Yunnan University', '#text': 'SUB3251046'}}}\n",
    "\n",
    "new_sra_content[\"SUBMISSION_lab_name\"] = sra_content[\"SUBMISSION\"][\"@lab_name\"]"
   ]
  },
  {
   "cell_type": "code",
   "execution_count": 200,
   "metadata": {},
   "outputs": [],
   "source": [
    "# Organization\n",
    "# {'@center_name': 'BioProject',\n",
    "#  '@alias': 'PRJNA419473',\n",
    "#  '@accession': 'SRP125543',\n",
    "#  'IDENTIFIERS': {'PRIMARY_ID': 'SRP125543',\n",
    "#   'EXTERNAL_ID': {'@namespace': 'BioProject',\n",
    "#    '@label': 'primary',\n",
    "#    '#text': 'PRJNA419473'}},\n",
    "#  'DESCRIPTOR': {'STUDY_TITLE': 'Arabidopsis thaliana cultivar:Arabidopsis thaliana col-0 Transcriptome or Gene expression',\n",
    "#   'STUDY_TYPE': {'@existing_study_type': 'Transcriptome Analysis'},\n",
    "#   'STUDY_ABSTRACT': 'Dry mycelium of Penicillium chrysogenum(DMP) induced transduction pathway may different from classical salicylic acid(SA)/NPR1- or jasmonic acid(JA)/ethylene-dependent pathways. We use transcriptomics to detect changes in transcription levels induced by DMP, SA and JA in Arabidopsis thaliana (col-0).',\n",
    "#   'CENTER_PROJECT_NAME': 'Arabidopsis thaliana cultivar:Arabidopsis thaliana col-0'}}\n",
    "new_sra_content[\"DESCRIPTOR\"]  = {}\n",
    "new_sra_content[\"DESCRIPTOR\"]  = sra_content[\"STUDY\"][\"DESCRIPTOR\"] # 可能在有的键和值存在重复考虑去重\n",
    "new_sra_content[\"BioProject\"] = sra_content[\"STUDY\"][\"IDENTIFIERS\"][\"EXTERNAL_ID\"][\"#text\"] #防止有多个ID需要验证下\n"
   ]
  },
  {
   "cell_type": "code",
   "execution_count": 219,
   "metadata": {},
   "outputs": [
    {
     "data": {
      "text/plain": [
       "dict_keys(['EXPERIMENT', 'SUBMISSION', 'Organization', 'STUDY', 'SAMPLE', 'Pool', 'RUN_SET'])"
      ]
     },
     "execution_count": 219,
     "metadata": {},
     "output_type": "execute_result"
    }
   ],
   "source": []
  },
  {
   "cell_type": "code",
   "execution_count": 198,
   "metadata": {},
   "outputs": [],
   "source": [
    "# SAMPLE\n",
    "# {'@alias': 'SA',\n",
    "#  '@accession': 'SRS2711369',\n",
    "#  'IDENTIFIERS': {'PRIMARY_ID': 'SRS2711369',\n",
    "#   'EXTERNAL_ID': {'@namespace': 'BioSample', '#text': 'SAMN08056337'},\n",
    "#   'SUBMITTER_ID': {'@namespace': 'pda|chen090330',\n",
    "#    '@label': 'Sample name',\n",
    "#    '#text': 'SA'}},\n",
    "#  'TITLE': 'the leaf of plant',\n",
    "#  'SAMPLE_NAME': {'TAXON_ID': '3702',\n",
    "#   'SCIENTIFIC_NAME': 'Arabidopsis thaliana'},\n",
    "#  'SAMPLE_ATTRIBUTES': {'SAMPLE_ATTRIBUTE': [{'TAG': 'isolate',\n",
    "#     'VALUE': 'missing'},\n",
    "#    {'TAG': 'cultivar', 'VALUE': 'Arabidopsis thaliana wild type'},\n",
    "#    {'TAG': 'ecotype', 'VALUE': 'Col-0'},\n",
    "#    {'TAG': 'age', 'VALUE': '30-day-old'},\n",
    "#    {'TAG': 'dev_stage', 'VALUE': 'Vegetative growth'},\n",
    "#    {'TAG': 'geo_loc_name', 'VALUE': 'China:Yunnan'},\n",
    "#    {'TAG': 'tissue', 'VALUE': 'Leaf'},\n",
    "#    {'TAG': 'BioSampleModel', 'VALUE': 'Plant'}]}}\n",
    "new_sra_content[\"Sample_NAME\"] = sra_content[\"SAMPLE\"][\"SAMPLE_NAME\"]\n",
    "new_sra_content[\"Sample_ATTRIBUTES\"] = sra_content[\"SAMPLE\"][\"SAMPLE_ATTRIBUTES\"][\"SAMPLE_ATTRIBUTE\"] # 这里是一个list存了TAG和VALUE的字典"
   ]
  },
  {
   "cell_type": "code",
   "execution_count": 199,
   "metadata": {},
   "outputs": [],
   "source": [
    "# Pool\n",
    "{'Member': {'@member_name': '',\n",
    "  '@accession': 'SRS2711369',\n",
    "  '@sample_name': 'SA',\n",
    "  '@sample_title': 'the leaf of plant',\n",
    "  '@spots': '22357353',\n",
    "  '@bases': '4515684075',\n",
    "  '@tax_id': '3702',\n",
    "  '@organism': 'Arabidopsis thaliana',\n",
    "  'IDENTIFIERS': {'PRIMARY_ID': 'SRS2711369',\n",
    "   'EXTERNAL_ID': {'@namespace': 'BioSample', '#text': 'SAMN08056337'}}}}\n",
    "new_sra_content[\"Biosample_ID\"] = sra_content[\"Pool\"][\"Member\"][\"IDENTIFIERS\"][\"EXTERNAL_ID\"][\"#text\"] # 判断下这个EXTERNAL_ID字典下@namespace是否为BioSample"
   ]
  },
  {
   "cell_type": "code",
   "execution_count": null,
   "metadata": {},
   "outputs": [],
   "source": [
    "from Bio import Entrez\n",
    "import readdat\n",
    "import  pandas as pd\n",
    "import GEOparse\n",
    "import xmltodict\n",
    "\n",
    "\n",
    "# GSM 信息获取\n",
    "def get_info_from_GSM(GSM: str) ->dict:\n",
    "    \"\"\"_summary_\n",
    "    基于GSMID获取GEO中的信息,包括Biosample信息。\n",
    "    Args:\n",
    "        GSM (_type_): GSMID如GSM123456\n",
    "\n",
    "    Returns:\n",
    "        _type_: dict 包含GEO中的信息\n",
    "    \"\"\"\n",
    "    gse = GEOparse.get_GEO(geo=GSM,destdir=\"../Data/TMP/\",geotype=\"GSM\")\n",
    "    gsemetadata = gse.metadata\n",
    "    return gsemetadata\n",
    "\n",
    "\n",
    "# SRA数据数据库信息获取 DRX, ERX, SRX\n",
    "\n",
    "def Get_info_from_SRA(ID: str,email: str)-> dict:\n",
    "    \"\"\"解析Biopython SRA数据库返回的XML结果获取ERX, SRX, DRX的信息在SRA中的信息\n",
    "    \n",
    "    Args:\n",
    "        ID (str): _description_\n",
    "        email (str): _description_\n",
    "\n",
    "    Returns:\n",
    "        dict: _description_\n",
    "    \"\"\" \n",
    "    Entrez.email = email\n",
    "    Entrez.tool = \"MyLocalScript Use to get the experitment information of SRA\"\n",
    "    id = ID\n",
    "    # 基于ID获取SRA的信息，转化为字典\n",
    "    sra_id_list = Entrez.read(Entrez.esearch(db=\"sra\",term=id))[\"IdList\"]\n",
    "    if sra_id_list.__len__() == 1:\n",
    "        sra_id = sra_id_list[0]\n",
    "    else:\n",
    "        print(\"sra_id_list is not noly one ,the {id} will be skip\".format(id=id))\n",
    "        return {}\n",
    "    \n",
    "    sra_record =Entrez.efetch(db=\"sra\",id=sra_id,retmode ='xml',rettype = \"xml\" ).read()\n",
    "    sra_record_dict = xmltodict.parse(sra_record.decode(\"utf-8\"))\n",
    "    if len(set(sra_record_dict.keys())-set(['EXPERIMENT', 'SUBMISSION', 'Organization', 'STUDY', 'SAMPLE', 'Pool', 'RUN_SET']))>0:\n",
    "        print(\"sra_record_dict has some keys not in ['EXPERIMENT', 'SUBMISSION', 'Organization', 'STUDY', 'SAMPLE', 'Pool', 'RUN_SET']\\n\")\n",
    "        print(set(sra_record_dict.keys())-set(['EXPERIMENT', 'SUBMISSION', 'Organization', 'STUDY', 'SAMPLE', 'Pool', 'RUN_SET']))\n",
    "        \n",
    "    # 信息收集\n",
    "    # ['EXPERIMENT', 'SUBMISSION', 'Organization', 'STUDY', 'SAMPLE', 'Pool', 'RUN_SET'] 现在处理这些标签，后续测试再查看是否需要其他标签\n",
    "    sra_content = sra_record_dict[\"EXPERIMENT_PACKAGE_SET\"][\"EXPERIMENT_PACKAGE\"]\n",
    "    new_sra_content = {}\n",
    "    new_sra_content[\"TITLE\"] = sra_content[\"EXPERIMENT\"][\"TITLE\"]\n",
    "    new_sra_content[\"SRA_ID\"] = sra_content[\"EXPERIMENT\"][\"@accession\"]\n",
    "    new_sra_content[\"STUDY_REF\"] = sra_content[\"EXPERIMENT\"][\"STUDY_REF\"][\"@accession\"]\n",
    "    new_sra_content[\"BioProject\"] = sra_content[\"EXPERIMENT\"][\"STUDY_REF\"][\"IDENTIFIERS\"][\"EXTERNAL_ID\"][\"#text\"] #防止有多个ID需要验证下\n",
    "    new_sra_content[\"DESIGN\"] ={}\n",
    "    new_sra_content[\"DESIGN\"][\"DESIGN_DESCRIPTION\"] = sra_content[\"EXPERIMENT\"][\"DESIGN\"][\"DESIGN_DESCRIPTION\"]\n",
    "    new_sra_content[\"DESIGN\"][\"SAMPLE_DESCRIPTOR\"] = sra_content[\"EXPERIMENT\"][\"DESIGN\"][\"SAMPLE_DESCRIPTOR\"]       # 后面实验下看要不要删除感觉内容多余\n",
    "    new_sra_content[\"LIBRARY_DESCRIPTOR\"] = sra_content[\"EXPERIMENT\"][\"DESIGN\"][\"LIBRARY_DESCRIPTOR\"] #\n",
    "    new_sra_content[\"PLATFORM\"] = sra_content[\"EXPERIMENT\"][\"PLATFORM\"] # 测序平台 后面看看存不存在不兼容或者没有这部分数据的问题\n",
    "    new_sra_content[\"SUBMISSION_lab_name\"] = sra_content[\"SUBMISSION\"][\"@lab_name\"]\n",
    "    new_sra_content[\"DESCRIPTOR\"]  = {}\n",
    "    new_sra_content[\"DESCRIPTOR\"]  = sra_content[\"STUDY\"][\"DESCRIPTOR\"] # 可能在有的键和值存在重复考虑去重\n",
    "    new_sra_content[\"Biosample_ID\"] = sra_content[\"Pool\"][\"Member\"][\"IDENTIFIERS\"][\"EXTERNAL_ID\"][\"#text\"] # 判断下这个EXTERNAL_ID字典下@namespace是否为BioSample\n",
    "    \n",
    "    return new_sra_content\n",
    "\n",
    "\n",
    "\n",
    "email = \"1666526339@qq.com\"\n",
    "file_path = \"../Data/testdata.xlsx\"\n",
    "\n",
    "\n",
    "file_path  = file_path\n",
    "Sample_dat  = readdat.read_data(file_path=file_path)\n",
    "Sample_dat[\"type\"] = Sample_dat[\"Sample\"].str[:3]\n",
    "# 默认使用Sample列，如果没有就要用户修改一列Sample\n",
    "Sample_type_dict = dict(tuple(Sample_dat.groupby(\"type\").Sample))\n",
    "\n",
    "if len(list(set(Sample_type_dict.keys() )-set(['DRX', 'ERX', 'GSM', 'SRX']) ) ) == 0 :\n",
    "    print(\"Sample type is right\")\n",
    "else:\n",
    "    error_type = list(set(Sample_type_dict.keys() )-set(['DRX', 'ERX', 'GSM', 'SRX']) ) \n",
    "    print( f\"\"\"Sample type is wrong, please check the type of {\",\".join(error_type)} ,it should be DRX, ERX, GSM or SRX.\"\"\")\n",
    "\n",
    "# 判断数据来源\n",
    "Sample_dat[\"database\"] = Sample_dat[\"type\"].map(lambda x: \"GEO\" if x == \"GSM\" else \"SRA\")\n",
    "Sample_dat[\"info\"] = Sample_dat.apply(lambda x: get_info_from_GSM(x[\"Sample\"]) if x[\"database\"]==\"GEO\" else Get_info_from_SRA(x[\"Sample\"],email) ,axis=1)\n",
    "Sample_dat[\"info\"] = Sample_dat[\"info\"].map(lambda x: x if isinstance(x,dict) else {})\n",
    "Sample_dat.head()\n"
   ]
  },
  {
   "cell_type": "code",
   "execution_count": 4,
   "metadata": {},
   "outputs": [
    {
     "data": {
      "text/html": [
       "<div>\n",
       "<style scoped>\n",
       "    .dataframe tbody tr th:only-of-type {\n",
       "        vertical-align: middle;\n",
       "    }\n",
       "\n",
       "    .dataframe tbody tr th {\n",
       "        vertical-align: top;\n",
       "    }\n",
       "\n",
       "    .dataframe thead th {\n",
       "        text-align: right;\n",
       "    }\n",
       "</style>\n",
       "<table border=\"1\" class=\"dataframe\">\n",
       "  <thead>\n",
       "    <tr style=\"text-align: right;\">\n",
       "      <th></th>\n",
       "      <th>Sample</th>\n",
       "      <th>IR</th>\n",
       "      <th>type</th>\n",
       "      <th>database</th>\n",
       "      <th>info</th>\n",
       "    </tr>\n",
       "  </thead>\n",
       "  <tbody>\n",
       "    <tr>\n",
       "      <th>0</th>\n",
       "      <td>ERX2067749</td>\n",
       "      <td>1.0</td>\n",
       "      <td>ERX</td>\n",
       "      <td>SRA</td>\n",
       "      <td>{\"TITLE\": \"Illumina HiSeq 2000 paired end sequ...</td>\n",
       "    </tr>\n",
       "    <tr>\n",
       "      <th>1</th>\n",
       "      <td>ERX2067750</td>\n",
       "      <td>1.0</td>\n",
       "      <td>ERX</td>\n",
       "      <td>SRA</td>\n",
       "      <td>{\"TITLE\": \"Illumina HiSeq 2000 paired end sequ...</td>\n",
       "    </tr>\n",
       "    <tr>\n",
       "      <th>2</th>\n",
       "      <td>ERX2067754</td>\n",
       "      <td>1.0</td>\n",
       "      <td>ERX</td>\n",
       "      <td>SRA</td>\n",
       "      <td>{\"TITLE\": \"Illumina HiSeq 2000 paired end sequ...</td>\n",
       "    </tr>\n",
       "    <tr>\n",
       "      <th>3</th>\n",
       "      <td>GSM4217863</td>\n",
       "      <td>1.0</td>\n",
       "      <td>GSM</td>\n",
       "      <td>GEO</td>\n",
       "      <td>{\"title\": [\"SMXL5_GFP+_S12\"], \"geo_accession\":...</td>\n",
       "    </tr>\n",
       "    <tr>\n",
       "      <th>4</th>\n",
       "      <td>GSM4217871</td>\n",
       "      <td>1.0</td>\n",
       "      <td>GSM</td>\n",
       "      <td>GEO</td>\n",
       "      <td>{\"title\": [\"PXY_GFP+_S8\"], \"geo_accession\": [\"...</td>\n",
       "    </tr>\n",
       "  </tbody>\n",
       "</table>\n",
       "</div>"
      ],
      "text/plain": [
       "       Sample   IR type database  \\\n",
       "0  ERX2067749  1.0  ERX      SRA   \n",
       "1  ERX2067750  1.0  ERX      SRA   \n",
       "2  ERX2067754  1.0  ERX      SRA   \n",
       "3  GSM4217863  1.0  GSM      GEO   \n",
       "4  GSM4217871  1.0  GSM      GEO   \n",
       "\n",
       "                                                info  \n",
       "0  {\"TITLE\": \"Illumina HiSeq 2000 paired end sequ...  \n",
       "1  {\"TITLE\": \"Illumina HiSeq 2000 paired end sequ...  \n",
       "2  {\"TITLE\": \"Illumina HiSeq 2000 paired end sequ...  \n",
       "3  {\"title\": [\"SMXL5_GFP+_S12\"], \"geo_accession\":...  \n",
       "4  {\"title\": [\"PXY_GFP+_S8\"], \"geo_accession\": [\"...  "
      ]
     },
     "execution_count": 4,
     "metadata": {},
     "output_type": "execute_result"
    }
   ],
   "source": [
    "def format_json_to_html(data, indent=0):\n",
    "    html_content = ''\n",
    "    indent_str = '  ' * indent\n",
    "    if isinstance(data, dict):\n",
    "        for key, value in data.items():\n",
    "            if isinstance(value, (dict, list)):\n",
    "                html_content += f'{indent_str}<strong>{key}:</strong><br>'\n",
    "                html_content += format_json_to_html(value, indent + 1)\n",
    "            else:\n",
    "                html_content += f'{indent_str}<strong>{key}:</strong> {value}<br>'\n",
    "    elif isinstance(data, list):\n",
    "        for item in data:\n",
    "            html_content += format_json_to_html(item, indent + 1)\n",
    "    return html_content"
   ]
  },
  {
   "cell_type": "code",
   "execution_count": 33,
   "metadata": {},
   "outputs": [
    {
     "data": {
      "text/plain": [
       "True"
      ]
     },
     "execution_count": 33,
     "metadata": {},
     "output_type": "execute_result"
    }
   ],
   "source": [
    "# 以Sample为索引,除了info列,其他列以放在一个表格形式展示\n",
    "# <table>\n",
    "# <tr>\n",
    "# <th>Company</th>\n",
    "# <th>Contact</th>\n",
    "# <th>Country</th>\n",
    "# </tr>\n",
    "# <tr>\n",
    "# <td>Alfreds Futterkiste</td>\n",
    "# <td>Maria Anders</td>\n",
    "# <td>Germany</td>\n",
    "# </tr>\n",
    "# <tr>\n",
    "\n",
    "# 以Sample作为分割的子标题\n",
    "\n",
    "\n",
    "\n",
    "\n",
    "import pandas as pd\n",
    "import pdfkit\n",
    "import json\n",
    "df = pd.read_excel('../Result/testdata.xlsx')\n",
    "\n",
    "df = df.sort_values(\"type\")\n",
    "# Convert the table data to HTML format\n",
    "html_title = '<h1>Table Data to PDF</h1>'\n",
    "help_html = '<h2>Description</h2>'\n",
    "help_html += '<p>Sample: Sample ID</p>'\n",
    "\n",
    "html_content_all = '' \n",
    "\n",
    "for index, row in df.iterrows():\n",
    "    html_content_single = f'<h2>{row[\"Sample\"]}</h2>'\n",
    "    \n",
    "    table_dat = row[~row.index.isin([\"Sample\",\"info\"])]\n",
    "    html_content_single_table = '<table >'\n",
    "    for i in range(len(table_dat)):\n",
    "        html_content_single_table += f'<tr><td>{table_dat.index[i]}</td><td>{table_dat[i]}</td></tr>'\n",
    "    html_content_single_table += '</table>'\n",
    "    html_content_single_table += '<br>'\n",
    "    html_content_single_table +='<h3>Metadata</h3>'\n",
    "    html_content_single += html_content_single_table\n",
    "    html_content_single += '<br>'\n",
    "    html_content_single += '<h3>Info</h3>'    \n",
    "    info_data = json.loads(row['info'])\n",
    "    html_content_single += format_json_to_html(info_data)\n",
    "    html_content_all += html_content_single\n",
    "    html_content_all += '<br>'\n",
    "    html_content_all += '<hr>'       \n",
    "# Convert the HTML content to PDF using pdfkit\n",
    "config = pdfkit.configuration(wkhtmltopdf='C:/Program Files/wkhtmltopdf/bin/wkhtmltopdf.exe')\n",
    "pdfkit.from_string(html_content_all, '../Result/test2.pdf', configuration=config)\n"
   ]
  },
  {
   "cell_type": "code",
   "execution_count": 28,
   "metadata": {},
   "outputs": [
    {
     "data": {
      "text/plain": [
       "'{\"TITLE\": \"Illumina HiSeq 2000 paired end sequencing; Transcriptomes and differential gene expression in the Arabidopsis shoot phloem companion cells during flowering\", \"SRA_ID\": \"ERX2067749\", \"STUDY_REF\": \"ERP023520\", \"BioProject\": \"PRJEB21286\", \"DESIGN\": {\"DESIGN_DESCRIPTION\": \"Transcriptomes and differential gene expression in the Arabidopsis shoot phloem companion cells during flowering\", \"SAMPLE_DESCRIPTOR\": {\"@accession\": \"ERS1788394\", \"IDENTIFIERS\": {\"PRIMARY_ID\": \"ERS1788394\", \"EXTERNAL_ID\": {\"@namespace\": \"BioSample\", \"#text\": \"SAMEA104124501\"}}}}, \"LIBRARY_DESCRIPTOR\": {\"LIBRARY_NAME\": \"Sample 6_p\", \"LIBRARY_STRATEGY\": \"RNA-Seq\", \"LIBRARY_SOURCE\": \"TRANSCRIPTOMIC\", \"LIBRARY_SELECTION\": \"RANDOM\", \"LIBRARY_LAYOUT\": {\"PAIRED\": {\"@NOMINAL_LENGTH\": \"300\", \"@NOMINAL_SDEV\": \"30\"}}, \"LIBRARY_CONSTRUCTION_PROTOCOL\": \"For each biological replicate, approximately 500 INTACT reporter plants were grown in SDs for 21 days before shifting to LDs. The 0LD, 1LD, 2LD and 3LD samples were collected on the 21st day in SDs and 1, 2, and 3 days after the shift to LD. For each sample, the whole shoot material was collected from approximately 120 seedlings and frozen immediately in Eppendorf tubes suspended in liquid nitrogen.  Plants of the shoot-phloem-companion-cell-tagged  INTACT reporter line (Transgenic SUC2::redNTF and UBQ10::BirA in Col-0 background) were cultivated in growth chambers, in short-day (SD) conditions (8 h light/16 h dark) for 21 days and then shifted to long-day (LD) conditions (16 h light/8 h dark) to induce flowering.  The growth-chamber condition was at 23°C with 65% relative humidity, and with the light at a fluence rate of 125 to 175 μmol m−2 s−1. Total nuclear RNA was extracted from approximately 10,000 nuclei of each sample using the RNeasy Micro Kit (Qiagen). Genomic DNA was removed by DNase I treatment (Thermo Scientific). Double-strand cDNA was synthesized and linearly amplified (Clontech SMARTer Ultra Low Input RNA for Illumina Sequencing-HV kit).  Low Input Library Prep Kit (Clontech) was used for preparation of sequencing libraries\"}, \"PLATFORM\": {\"ILLUMINA\": {\"INSTRUMENT_MODEL\": \"Illumina HiSeq 2000\"}}, \"SUBMISSION_lab_name\": \"European Nucleotide Archive\", \"DESCRIPTOR\": {\"STUDY_TITLE\": \"Transcriptomes and differential gene expression in the Arabidopsis shoot phloem companion cells during flowering\", \"STUDY_TYPE\": {\"@existing_study_type\": \"Transcriptome Analysis\"}, \"STUDY_ABSTRACT\": \"We investigated the transcriptomes and differential gene expression at the Arabidopsis shoot phloem companion cells during flowering using INTACT reporter lines. Samples were collected in three biological replications.\", \"STUDY_DESCRIPTION\": \"We investigated the transcriptomes and differential gene expression at the Arabidopsis shoot phloem companion cells during flowering using INTACT reporter lines. Samples were collected in three biological replications.\"}, \"Biosample_ID\": \"SAMEA104124501\"}'"
      ]
     },
     "execution_count": 28,
     "metadata": {},
     "output_type": "execute_result"
    }
   ],
   "source": []
  },
  {
   "cell_type": "code",
   "execution_count": 32,
   "metadata": {},
   "outputs": [
    {
     "name": "stdout",
     "output_type": "stream",
     "text": [
      "<strong>TITLE:</strong> RNA-seq of Arabidopsis thaliana: apical part of 14 days old plants with 1 (h) after  low R/FR  treatment<br><strong>SRA_ID:</strong> SRX5187334<br><strong>STUDY_REF:</strong> SRP218372<br><strong>BioProject:</strong> PRJNA560257<br><strong>DESIGN:</strong><br>  <strong>DESIGN_DESCRIPTION:</strong> Full Transcript RNA sequencing with YourSeq Dual Kit (Amaryllis Nucleics, CA)<br>  <strong>SAMPLE_DESCRIPTOR:</strong><br>    <strong>@accession:</strong> SRS4193723<br>    <strong>IDENTIFIERS:</strong><br>      <strong>PRIMARY_ID:</strong> SRS4193723<br><strong>LIBRARY_DESCRIPTOR:</strong><br>  <strong>LIBRARY_NAME:</strong> npr1_1h_L_R2<br>  <strong>LIBRARY_STRATEGY:</strong> RNA-Seq<br>  <strong>LIBRARY_SOURCE:</strong> TRANSCRIPTOMIC<br>  <strong>LIBRARY_SELECTION:</strong> cDNA<br>  <strong>LIBRARY_LAYOUT:</strong><br><strong>PLATFORM:</strong><br>  <strong>ILLUMINA:</strong><br>    <strong>INSTRUMENT_MODEL:</strong> Illumina HiSeq 4000<br><strong>SUBMISSION_lab_name:</strong> Plant Biology<br><strong>DESCRIPTOR:</strong><br>  <strong>STUDY_TITLE:</strong> Arabidopsis thaliana cultivar:Col Transcriptome or Gene expression<br>  <strong>STUDY_TYPE:</strong><br>    <strong>@existing_study_type:</strong> Other<br>  <strong>STUDY_ABSTRACT:</strong> Shade responsive genes in npr1, and sid2/eds16<br>  <strong>CENTER_PROJECT_NAME:</strong> Arabidopsis thaliana cultivar:Col<br><strong>Biosample_ID:</strong> SAMN10660720<br>\n"
     ]
    }
   ],
   "source": [
    "import json\n",
    "\n",
    "def format_json_to_html(data, indent=0):\n",
    "    html_content = ''\n",
    "    indent_str = '  ' * indent\n",
    "    if isinstance(data, dict):\n",
    "        for key, value in data.items():\n",
    "            if value is None or value == '' or len(value) == 0:\n",
    "                continue  # Skip keys with None or empty string values\n",
    "            if isinstance(value, (dict, list)):\n",
    "                html_content += f'{indent_str}<strong>{key}:</strong><br>'\n",
    "                html_content += format_json_to_html(value, indent + 1)\n",
    "            else:\n",
    "                if isinstance(value, str):\n",
    "                    # Handle special characters\n",
    "                    value = value.replace('掳', '°').replace('飩癈', '°C').replace('渭mol', 'μmol').replace('m鈭2 s鈭1', 'm−2 s−1').replace('掳', '&deg;').replace('碌', '&micro;').replace('m−2', 'm<sup>-2</sup>').replace('s−1', 's<sup>-1</sup>').replace('°', '&deg;').replace('μ', '&micro;').replace('鈥揼', '--')\n",
    "\n",
    "                html_content += f'{indent_str}<strong>{key}:</strong> {value}<br>'\n",
    "    elif isinstance(data, list):\n",
    "        for item in data:\n",
    "            # Handle special characters for list items\n",
    "            if isinstance(item, str):\n",
    "                item = item.replace('掳', '°').replace('飩癈', '°C').replace('渭mol', 'μmol').replace('m鈭2 s鈭1', 'm−2 s−1').replace('掳', '&deg;').replace('碌', '&micro;').replace('m−2', 'm<sup>-2</sup>').replace('s−1', 's<sup>-1</sup>').replace('°', '&deg;').replace('μ', '&micro;').replace('鈥揼', '--')\n",
    "            html_content += f'{indent_str}{item}<br>'\n",
    "    return html_content\n",
    "\n",
    "print(format_json_to_html(info_data))\n"
   ]
  },
  {
   "cell_type": "code",
   "execution_count": 243,
   "metadata": {},
   "outputs": [
    {
     "name": "stdout",
     "output_type": "stream",
     "text": [
      "Note: you may need to restart the kernel to use updated packages.\n"
     ]
    },
    {
     "name": "stderr",
     "output_type": "stream",
     "text": [
      "ERROR: Invalid requirement: '-'\n"
     ]
    }
   ],
   "source": [
    "%pip install wkhtmltopdf "
   ]
  }
 ],
 "metadata": {
  "kernelspec": {
   "display_name": "base",
   "language": "python",
   "name": "python3"
  },
  "language_info": {
   "codemirror_mode": {
    "name": "ipython",
    "version": 3
   },
   "file_extension": ".py",
   "mimetype": "text/x-python",
   "name": "python",
   "nbconvert_exporter": "python",
   "pygments_lexer": "ipython3",
   "version": "3.11.5"
  }
 },
 "nbformat": 4,
 "nbformat_minor": 2
}
